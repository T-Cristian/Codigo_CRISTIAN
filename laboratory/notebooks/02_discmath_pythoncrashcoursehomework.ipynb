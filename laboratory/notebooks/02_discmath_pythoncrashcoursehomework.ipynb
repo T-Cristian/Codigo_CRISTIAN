{
  "cells": [
    {
      "cell_type": "markdown",
      "metadata": {
        "id": "guNjRySPGNwg"
      },
      "source": [
        "<!--NAVIGATION-->\n",
        "<a href=\"https://colab.research.google.com/github/marcoteran/artificialintelligence/blob/master/notebooks/00_introtopython/02_artificialintelligence_pythoncrashcoursehomework.ipynb\" target=\"_blank\"><img align=\"left\" src=\"https://colab.research.google.com/assets/colab-badge.svg\" alt=\"Abrir en Colab\" title=\"Abrir y ejecutar en Google Colaboratory\"></a>"
      ]
    },
    {
      "cell_type": "markdown",
      "metadata": {
        "id": "OGo1Oz6fGNwl"
      },
      "source": [
        "### Taller\n",
        "# Taller: Ejercicios curso rápido de Python\n",
        "## Inteligencia Artificial"
      ]
    },
    {
      "cell_type": "markdown",
      "metadata": {
        "id": "0cLtbmt4GNwm"
      },
      "source": [
        "**Name:** Marco Teran **E-mail:** marco.tulio.teran@gmail.com,\n",
        "[Website](http://marcoteran.github.io/),\n",
        "[Github](https://github.com/marcoteran),\n",
        "[LinkedIn](https://www.linkedin.com/in/marcoteran/).\n",
        "___"
      ]
    },
    {
      "cell_type": "markdown",
      "metadata": {
        "id": "RbUZ9QBLGNwm"
      },
      "source": [
        "En este notebook se plantan algunos ejercicios de programación en Python para repasar los conceptos estudiados. Si usted piensa que necesita más bases de programación o más bases de Python por favor considere hacer trabajo extra para ponerse al día. Por ejemplo con el siguiente curso en línea: [CodeCademy: Learn Python (10 hours)](https://www.codecademy.com/courses/learn-python/lessons/python-syntax/exercises/welcome?action=lesson_resume)."
      ]
    },
    {
      "cell_type": "markdown",
      "metadata": {
        "id": "Yg546y57GNwn"
      },
      "source": [
        "Escriba su nombre completo:\n",
        "## Nombre: Cristian Camilo Toro Gomez\n",
        "___"
      ]
    },
    {
      "cell_type": "markdown",
      "metadata": {
        "id": "6iCM9LPZGNwn"
      },
      "source": [
        "## Ejercicios\n",
        "\n",
        "Conteste las preguntas o complete las tareas que se presentan en negrilla a continuación. Use los métodos de Python cuando sea necesario."
      ]
    },
    {
      "cell_type": "markdown",
      "metadata": {
        "id": "lrEMz_c3GNwo"
      },
      "source": [
        "** ¿Cuánto es 7 elevado a la potencia de 4?**"
      ]
    },
    {
      "cell_type": "code",
      "execution_count": 3,
      "metadata": {
        "collapsed": true,
        "colab": {
          "base_uri": "https://localhost:8080/"
        },
        "id": "4fAhhY-OGNwo",
        "outputId": "6956ff8c-a3a0-4d94-c0d1-bd52119dd942"
      },
      "outputs": [
        {
          "output_type": "stream",
          "name": "stdout",
          "text": [
            "2401\n"
          ]
        }
      ],
      "source": [
        "t=7**4\n",
        "print(t)"
      ]
    },
    {
      "cell_type": "code",
      "execution_count": null,
      "metadata": {
        "id": "5cYWmSnDGNwp",
        "outputId": "dd4aeea4-ccd5-4109-df45-db3d52c89a00"
      },
      "outputs": [
        {
          "data": {
            "text/plain": [
              "2401"
            ]
          },
          "execution_count": 1,
          "metadata": {},
          "output_type": "execute_result"
        }
      ],
      "source": [
        "# NO USAR ESTA CELDA"
      ]
    },
    {
      "cell_type": "markdown",
      "metadata": {
        "id": "DbWzSvhTGNwq"
      },
      "source": [
        "** Separe la siguiente cadena (usando como delimitador los espacios):**\n",
        "\n",
        "    s = \"Hola, este es un ejercio de Python!\"\n",
        "    \n",
        "**en una lista. **"
      ]
    },
    {
      "cell_type": "code",
      "execution_count": 4,
      "metadata": {
        "collapsed": true,
        "colab": {
          "base_uri": "https://localhost:8080/"
        },
        "id": "EQequ1UqGNwq",
        "outputId": "1c1427ba-bb21-43c8-c93b-8279496099c7"
      },
      "outputs": [
        {
          "output_type": "stream",
          "name": "stdout",
          "text": [
            "['Hola,', 'este', 'es', 'un', 'ejercio', 'de', 'Python!']\n"
          ]
        }
      ],
      "source": [
        "s = \"Hola, este es un ejercio de Python!\"\n",
        "palabra = s.split()\n",
        "print(palabra)"
      ]
    },
    {
      "cell_type": "code",
      "execution_count": null,
      "metadata": {
        "id": "Hk6jTKDHGNwr",
        "outputId": "65951544-8da9-491d-d7cc-7a0ebb2f0ce7"
      },
      "outputs": [
        {
          "data": {
            "text/plain": [
              "['Hola,', 'este', 'es', 'un', 'ejercio', 'de', 'Python!']"
            ]
          },
          "execution_count": 4,
          "metadata": {},
          "output_type": "execute_result"
        }
      ],
      "source": [
        "# NO USAR ESTA CELDA"
      ]
    },
    {
      "cell_type": "markdown",
      "metadata": {
        "id": "ncghmweUGNwr"
      },
      "source": [
        "###### ** Dadas las siguientes variables:**\n",
        "\n",
        "    planeta = \"Tierra\"\n",
        "    diametro = 12756\n",
        "\n",
        "** Use el método .format() para imprimir en pantalla la siguiente cadena: **\n",
        "\n",
        "    El diámetro del planeta Tierra es 12756 kilometros."
      ]
    },
    {
      "cell_type": "code",
      "execution_count": null,
      "metadata": {
        "collapsed": true,
        "id": "iAGxq-gZGNwr"
      },
      "outputs": [],
      "source": [
        "planeta = \"Tierra\"\n",
        "diametro = 12756"
      ]
    },
    {
      "cell_type": "code",
      "execution_count": 6,
      "metadata": {
        "collapsed": true,
        "colab": {
          "base_uri": "https://localhost:8080/"
        },
        "id": "u14JGZZNGNwr",
        "outputId": "f284ff66-c581-45e0-e155-2860935735ff"
      },
      "outputs": [
        {
          "output_type": "stream",
          "name": "stdout",
          "text": [
            "El diámetro del planeta Tierra es 12756 kilometros.\n"
          ]
        }
      ],
      "source": [
        "mensaje = \"El diámetro del planeta Tierra es {} kilometros.\".format(diametro)\n",
        "print(mensaje)"
      ]
    },
    {
      "cell_type": "code",
      "execution_count": null,
      "metadata": {
        "id": "VO2WCmtZGNwr",
        "outputId": "7e8db2a2-cbac-4687-d854-82db05c1df25"
      },
      "outputs": [
        {
          "name": "stdout",
          "output_type": "stream",
          "text": [
            "El diámetro del planeta Tierra es 12756 kilometros.\n"
          ]
        }
      ],
      "source": [
        "# NO USAR ESTA CELDA"
      ]
    },
    {
      "cell_type": "markdown",
      "metadata": {
        "id": "Is7JKFvWGNwr"
      },
      "source": [
        "** Dada la siguiente lista anidada, acceda a la palabra \"hola\" usando solamente los índices de la lista: **"
      ]
    },
    {
      "cell_type": "code",
      "execution_count": 10,
      "metadata": {
        "collapsed": true,
        "colab": {
          "base_uri": "https://localhost:8080/"
        },
        "id": "Q0Hq7jKWGNwr",
        "outputId": "bdc9f72c-d732-45d8-c705-5214638b08fb"
      },
      "outputs": [
        {
          "output_type": "stream",
          "name": "stdout",
          "text": [
            "hola\n"
          ]
        }
      ],
      "source": [
        "lst = [1,2,[3,4],[5,[100,200,['hola']],23,11],1,7]\n",
        "palabra=lst[3][1][2][0]\n",
        "print(palabra)"
      ]
    },
    {
      "cell_type": "code",
      "execution_count": null,
      "metadata": {
        "id": "796CFichGNws",
        "outputId": "b83592c6-de45-4943-b23d-9f8bc986f4ce"
      },
      "outputs": [
        {
          "data": {
            "text/plain": [
              "'hola'"
            ]
          },
          "execution_count": 11,
          "metadata": {},
          "output_type": "execute_result"
        }
      ],
      "source": [
        "# NO USAR ESTA CELDA"
      ]
    },
    {
      "cell_type": "markdown",
      "metadata": {
        "id": "6uKbnnRYGNws"
      },
      "source": [
        "** Dado el siguiente diccionario anidado, acceda a la palabra \"hola\". Este ejercicio puede ser un poco difícil.\n",
        "NOTA: Aunque este tipo de cosas no son necesarias normalmente, sirven para terminar de despejar dudas acerca del acceso a diccionarios y listas anidadas: **"
      ]
    },
    {
      "cell_type": "code",
      "execution_count": 13,
      "metadata": {
        "collapsed": true,
        "colab": {
          "base_uri": "https://localhost:8080/"
        },
        "id": "4MVo1p_KGNws",
        "outputId": "d2ec4c96-08be-49b4-a06e-b816befa6f64"
      },
      "outputs": [
        {
          "output_type": "stream",
          "name": "stdout",
          "text": [
            "hola\n"
          ]
        }
      ],
      "source": [
        "d = {'k1':[1,2,3,{'difícil':['que','significa','esto',{'casi':[0,1,2,3,'hola']}]}]}\n",
        "palabra = d['k1'][3]['difícil'][3]['casi'][4]\n",
        "print(palabra)"
      ]
    },
    {
      "cell_type": "code",
      "execution_count": null,
      "metadata": {
        "id": "BQ3v8A1aGNws",
        "outputId": "3eb5f7a1-b896-40e9-fd75-11b085ab7687"
      },
      "outputs": [
        {
          "data": {
            "text/plain": [
              "'hola'"
            ]
          },
          "execution_count": 15,
          "metadata": {},
          "output_type": "execute_result"
        }
      ],
      "source": [
        "# NO USAR ESTA CELDA"
      ]
    },
    {
      "cell_type": "markdown",
      "metadata": {
        "id": "RoJwVeGXGNws"
      },
      "source": [
        "** ¿Cuál es la principal diferencia entre una tupla y una lista? Escriba su respuesta como un comentario de Python**"
      ]
    },
    {
      "cell_type": "code",
      "execution_count": null,
      "metadata": {
        "collapsed": true,
        "id": "o8MMmoSvGNws"
      },
      "outputs": [],
      "source": [
        "# La principal diferencia es que la Tupla no permite editar la lista.\n",
        "# Una lista es mutable, lo que permite agregar, eliminar o modificar elementos después de su creación."
      ]
    },
    {
      "cell_type": "markdown",
      "metadata": {
        "id": "qJ1CqrssGNws"
      },
      "source": [
        "** Crear una función que extraiga el dominio de una página web a partir de una cadena que contenga un email de la siguiente forma: **\n",
        "\n",
        "    usuario@dominio.com\n",
        "    \n",
        "**Por ejemplo: si se le pasa \"frestrepo@gmail.com\", la función retornará: gmail.com**"
      ]
    },
    {
      "cell_type": "code",
      "execution_count": 15,
      "metadata": {
        "collapsed": true,
        "colab": {
          "base_uri": "https://localhost:8080/"
        },
        "id": "amFdrHVzGNws",
        "outputId": "17a61ae3-9734-4b4a-91c2-bd5cfb063396"
      },
      "outputs": [
        {
          "output_type": "stream",
          "name": "stdout",
          "text": [
            "Dominio: gmail.com\n"
          ]
        }
      ],
      "source": [
        "def obtener_dominio(email):\n",
        "    return email.split('@', 1)[-1]\n",
        "direccion_email = \"frestrepo@gmail.com\"\n",
        "dominio = obtener_dominio(direccion_email)\n",
        "print(\"Dominio:\", dominio)"
      ]
    },
    {
      "cell_type": "markdown",
      "metadata": {
        "id": "C4szdSAIGNwt"
      },
      "source": [
        "** Crear una función que retorne True si la palabra 'perro' está contenida en la cadena de entrada; False, en caso contrario. Por ahora no se preocupe por casos especiales como cuando la palabra tiene algún signo de puntuación inmediatamente despúes de ésta, pero si tenga en cuenta que la palabra puede estar en mayúsculas, minúsculas o una mezcla de ellas. **"
      ]
    },
    {
      "cell_type": "code",
      "execution_count": 17,
      "metadata": {
        "collapsed": true,
        "colab": {
          "base_uri": "https://localhost:8080/"
        },
        "id": "lHjbq97KGNwt",
        "outputId": "54b995f8-ade0-42bb-886a-d83d074822dd"
      },
      "outputs": [
        {
          "output_type": "stream",
          "name": "stdout",
          "text": [
            "True\n"
          ]
        }
      ],
      "source": [
        "findDog = '¿Hay algún peRRo aquí?'\n",
        "resultado = 'perro' in findDog.lower()\n",
        "print(resultado)"
      ]
    },
    {
      "cell_type": "markdown",
      "metadata": {
        "id": "YjzuuSEuGNwt"
      },
      "source": [
        "** Crear una función que cuente el número de veces que aparece la palabra \"perro\" en una cadena. Puede ignorar casos especiales como antes. **"
      ]
    },
    {
      "cell_type": "code",
      "execution_count": 19,
      "metadata": {
        "colab": {
          "base_uri": "https://localhost:8080/"
        },
        "id": "NVcCf6lhGNwt",
        "outputId": "29649c77-5560-4c25-9014-272eb1e06321"
      },
      "outputs": [
        {
          "output_type": "stream",
          "name": "stdout",
          "text": [
            "2\n"
          ]
        }
      ],
      "source": [
        "count = 'Este peRRO corre más rápido que el perro blanco y el perro negro!'\n",
        "contador_perro = count.count(\"perro\")\n",
        "print(contador_perro)"
      ]
    },
    {
      "cell_type": "markdown",
      "metadata": {
        "id": "XsmNdRHtGNwx"
      },
      "source": [
        "** Usar una expresión lambda y la función filter() para filtrar las palabras de una lista que NO comiencen con la letra 's'. Por ejemplo:**\n",
        "\n",
        "    seq = ['sopa','perro','sal','gato','grande']\n",
        "\n",
        "**se debe filtrar como:**\n",
        "\n",
        "    ['sopa','sal']"
      ]
    },
    {
      "cell_type": "code",
      "execution_count": 20,
      "metadata": {
        "collapsed": true,
        "colab": {
          "base_uri": "https://localhost:8080/"
        },
        "id": "vXXsTaUaGNwx",
        "outputId": "bb0b4774-0972-4fd0-94aa-5709a2354868"
      },
      "outputs": [
        {
          "output_type": "stream",
          "name": "stdout",
          "text": [
            "['sopa', 'sal']\n"
          ]
        }
      ],
      "source": [
        "seq = ['sopa','perro','sal','gato','grande']\n",
        "resultado = list(filter(lambda palabra: palabra.startswith('s'), seq))\n",
        "print(resultado)"
      ]
    },
    {
      "cell_type": "code",
      "execution_count": null,
      "metadata": {
        "id": "JdgNPY19GNwx",
        "outputId": "6d0d46f6-0d05-47f6-a90a-a3f14a2fabc5"
      },
      "outputs": [
        {
          "data": {
            "text/plain": [
              "['sopa', 'sal']"
            ]
          },
          "execution_count": 50,
          "metadata": {},
          "output_type": "execute_result"
        }
      ],
      "source": [
        "# NO USAR ESTA CELDA"
      ]
    },
    {
      "cell_type": "markdown",
      "metadata": {
        "id": "DtfjqnmpGNwy"
      },
      "source": [
        "### Problema final\n",
        "**Usted va conduciendo su carro muy rápido y es detenido por un agente de tránsito. Escriba una función que retorne uno de los 3 siguientes resultados: \"Sin multa\", \"Multa pequeña\", or \"Multa grande\".\n",
        "  Si la velocidad es 60 Km/h o menos, el resultado es \"Sin multa\". Si la velocidad está entre 60 y 80 Km/h (inclusive), el resultado es \"Multa pequeña\". Si la velocidad es mayor a 80 Km/h, el resultado es \"Multa grande\". Además, considere que si esto ocurre el día de su cumpleaños (codificado como parámetro booleano que recibe la función), su velocidad podría ser 5 Km/ mayor en todos los casos. **"
      ]
    },
    {
      "cell_type": "code",
      "execution_count": 25,
      "metadata": {
        "collapsed": true,
        "colab": {
          "base_uri": "https://localhost:8080/"
        },
        "id": "xig34S4HGNwy",
        "outputId": "a4864f06-effd-472f-f1a8-0f701dfe6b16"
      },
      "outputs": [
        {
          "output_type": "stream",
          "name": "stdout",
          "text": [
            "Ingrese la velocidad en Km/h: 64\n",
            "¿Es tu cumpleaños? (Si/No): si\n",
            "Resultado: Sin multa\n"
          ]
        }
      ],
      "source": [
        "def calcular_multa(velocidad, es_cumpleaños):\n",
        "    if es_cumpleaños:\n",
        "        velocidad -= 5\n",
        "    if velocidad <= 60:\n",
        "        return \"Sin multa\"\n",
        "    elif velocidad <= 80:\n",
        "        return \"Multa pequeña\"\n",
        "    else:\n",
        "        return \"Multa grande\"\n",
        "velocidad = int(input(\"Ingrese la velocidad en Km/h: \"))\n",
        "es_cumpleaños = input(\"¿Es tu cumpleaños? (Si/No): \").strip().lower() == \"si\"\n",
        "resultado = calcular_multa(velocidad, es_cumpleaños)\n",
        "print(\"Resultado:\", resultado)"
      ]
    },
    {
      "cell_type": "markdown",
      "metadata": {
        "id": "ENvwhYm3GNwy"
      },
      "source": [
        "### Cargando Pickle"
      ]
    },
    {
      "cell_type": "markdown",
      "metadata": {
        "id": "kVrFzWv0GNwy"
      },
      "source": [
        "[**Pickle**](https://wiki.python.org/moin/UsingPickle) nos permite serializar casi todo tipo de objetos en Python. Sin embargo, existen elementos como clases, funciones y metodos que no pueden ser almacenados usando Pickle. Cuando se almacene una instancia de una clase, Pickle no almacenará la clase del objeto, sino una cadena de caracteres que identifique a qué clase pertenece el objeto.\n",
        "\n",
        "A continuación usaremos el conjunto de datos de usuarios del sitio de revisión de películas y almacenaremos los primeros cinco usuarios usando Pickle. Posteriormente los cargaremos usando también Pickle."
      ]
    },
    {
      "cell_type": "code",
      "execution_count": null,
      "metadata": {
        "id": "ykvcRk7AGNwy"
      },
      "outputs": [],
      "source": [
        "import pickle\n",
        "\n",
        "with open('data/file_load/user-data.csv', 'r') as csvfile:\n",
        "    user_data = csv.reader(csvfile, delimiter='|')\n",
        "    data = list(user_data)"
      ]
    },
    {
      "cell_type": "code",
      "execution_count": null,
      "metadata": {
        "id": "CBJWxcP3GNwy"
      },
      "outputs": [],
      "source": [
        "data[-5:]"
      ]
    },
    {
      "cell_type": "code",
      "execution_count": null,
      "metadata": {
        "id": "GAIkjPAYGNwz"
      },
      "outputs": [],
      "source": [
        "pickle.dump(data[-5:], open(\"data/file_load/user_data.pkl\", \"wb\"))"
      ]
    },
    {
      "cell_type": "markdown",
      "metadata": {
        "id": "_6zuye21GNwz"
      },
      "source": [
        "Ahora cargamos el archivo pickle de la siguiente manera:"
      ]
    },
    {
      "cell_type": "code",
      "execution_count": null,
      "metadata": {
        "id": "V-gI__VcGNwz"
      },
      "outputs": [],
      "source": [
        "user_data = pickle.load(open(\"data/file_load/user_data.pkl\", \"rb\" ))"
      ]
    },
    {
      "cell_type": "code",
      "execution_count": null,
      "metadata": {
        "id": "GftzSTpOGNwz"
      },
      "outputs": [],
      "source": [
        "user_data"
      ]
    }
  ],
  "metadata": {
    "kernelspec": {
      "display_name": "Python 3",
      "language": "python",
      "name": "python3"
    },
    "language_info": {
      "codemirror_mode": {
        "name": "ipython",
        "version": 3
      },
      "file_extension": ".py",
      "mimetype": "text/x-python",
      "name": "python",
      "nbconvert_exporter": "python",
      "pygments_lexer": "ipython3",
      "version": "3.7.4"
    },
    "colab": {
      "provenance": []
    }
  },
  "nbformat": 4,
  "nbformat_minor": 0
}